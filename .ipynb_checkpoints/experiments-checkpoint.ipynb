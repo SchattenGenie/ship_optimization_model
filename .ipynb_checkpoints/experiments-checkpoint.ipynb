{
 "cells": [
  {
   "cell_type": "code",
   "execution_count": 2,
   "metadata": {},
   "outputs": [],
   "source": [
    "import docker\n",
    "client = docker.from_env()\n",
    "client.info()\n",
    "target = '/mnt/vbelavin'\n",
    "source = '/root/data'\n",
    "docker.types.Mount(target=target, source=source)"
   ]
  },
  {
   "cell_type": "code",
   "execution_count": 16,
   "metadata": {},
   "outputs": [],
   "source": [
    "def create_job(job_folder, folder_container, command):\n",
    "    client.containers.run(\n",
    "        privileged=True,\n",
    "        remove=False,\n",
    "        detach=False,\n",
    "        hostname='dev',\n",
    "        tty=True,\n",
    "        command=\"/bin/sh -c 'head -1 input.txt > output.txt'\",\n",
    "        stdin_open=True,\n",
    "        mounts=[docker.types.Mount('./', '/root')]\n",
    "    )"
   ]
  },
  {
   "cell_type": "code",
   "execution_count": null,
   "metadata": {},
   "outputs": [],
   "source": [
    "import json\n",
    "import os\n",
    "import subprocess\n",
    "import shutil\n",
    "\n",
    "print(\"kek\", i, Z)\n",
    "magnet_params = {\"shape\": {'X': 5., 'Y':5., 'Z': Z},\n",
    "                 \"field\": {'X': 0., 'Y': 4, 'Z':0}}\n",
    "\n",
    "dirname = os.path.dirname(__file__)\n",
    "with open(os.path.join(dirname, \"magnet_params.json\"), 'w') as f:\n",
    "    json.dump(magnet_params, f)\n",
    "\n",
    "for sign in [\"\", \"-\"]:\n",
    "    f_name = str(i)\n",
    "    f_name += \"_plus\" if sign == \"\" else \"_minus\"\n",
    "    print(sign == \"\")\n",
    "    command = \"python $FAIRSHIP/macro/run_simScript.py --PG --pID {}13 -n 100 --Estart 1 --Eend 10 --FastMuon -o {}\".format(sign, f_name)\n",
    "    process = subprocess.Popen(command, shell=True, stdout=subprocess.PIPE, stderr=subprocess.STDOUT)\n",
    "    for line in process.stdout:\n",
    "        print(line)\n",
    "    process.wait()\n",
    "    shutil.copyfile(os.path.join(dirname, \"magnet_params.json\"), os.path.join(f_name, \"params.json\"))"
   ]
  },
  {
   "cell_type": "code",
   "execution_count": null,
   "metadata": {},
   "outputs": [],
   "source": [
    "import json, sys\n",
    "request = json.load( sys.stdin )"
   ]
  }
 ],
 "metadata": {
  "kernelspec": {
   "display_name": "Python 3",
   "language": "python",
   "name": "python3"
  },
  "language_info": {
   "codemirror_mode": {
    "name": "ipython",
    "version": 3
   },
   "file_extension": ".py",
   "mimetype": "text/x-python",
   "name": "python",
   "nbconvert_exporter": "python",
   "pygments_lexer": "ipython3",
   "version": "3.6.8"
  }
 },
 "nbformat": 4,
 "nbformat_minor": 2
}
